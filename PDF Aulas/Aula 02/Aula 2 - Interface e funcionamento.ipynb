{
 "cells": [
  {
   "cell_type": "markdown",
   "metadata": {},
   "source": [
    "# Atividade 2: Interface Godot\n",
    "\n",
    "Voltando ao nosso projeto, vamos agora verificar as funções das componentes da interface por alto:"
   ]
  },
  {
   "cell_type": "markdown",
   "metadata": {},
   "source": [
    "![MarineGEO circle logo](Foto-2.1.jpg \"MarineGEO logo\")"
   ]
  },
  {
   "cell_type": "markdown",
   "metadata": {},
   "source": [
    "O quadrado vermelho claro representa as configurações gerais do aplicativo, aqui poderemos definir dentre outras coisas a resolução da tela ou as configurações do compilador Godot.\n",
    "\n",
    "Abaixo, no bloco verde, está localizado as componentes da cena atualmente aberta, uma cena essencialmente é um conjunto de objetos e ela pode vir em 3 tipos: Uma cena 2d, 3d e o modo de interface. A melhor maneira de explicar elas, é pensar que a cena 2d e 3d são como os mapa de um jogo 2d ou 3d respectivamente. Por sua vez, a interface é como a HUD que fica sempre fixa na tela, também podendo ser pensada como sendo os menus e afins.\n",
    "\n",
    "A estrutura aqui será mostrada na forma de um grafo do tipo Arvore, onde sua raiz será o nó correspondente ao tipo de cena criada.\n",
    "\n",
    "O quadrado em vermelho escuro representa a lista de arquivos que está aberto no projeto. Não há muito o que mencionar aqui, é apenas a listagem de todos os arquivos que a godot consegue trabalhar que se encontram na pasta do seu projeto.\n",
    "\n",
    "O quadrado cinza, representa o editor atualmente ativo, podendo ser alternado entre os modo 2d, 3d ou de edição de script. O botão AssetLib irá abir a lista de pluggin que estão disponiveis para complementar o projeto. Nesse trabalho nos usaremos alguns deles ao decorrer do desenvolvimento.\n",
    "\n",
    "O quadrado amarelo é onde ficam as opções de teste, sendo o primeiro botão a função que inicia o teste e nossa principal forma de realizar teste do funcionamento do aplicativo.\n",
    "\n",
    "A parte roxa é onde ficam as configurações do componente atual.\n",
    "\n",
    "Por fim a parte azul clara é onde fica o editor atualmente ativado na parte cinza."
   ]
  },
  {
   "cell_type": "markdown",
   "metadata": {},
   "source": [
    "## Componentes\n",
    "\n",
    "A construção dos jogos precisa que sejam inseridos os elementos para compor o mesmo, para isso, na seção verde, primeiro iremos escolher o tipo de cena que iremos trabalhar, no caso, para o mapa do jogo, essa cena será uma cena 2d uma vez que nosso jogo será nesse formato. Uma vez selecionado, uma estrutura de arvore se abrira com o no basico 2d como raiz da mesma. A parti daqui, você deve inserir os demais elementos como filhos dessa raiz para assim compor sua arvore e por consequencia seu jogo. Para fazer essa inserção, o que faremos é usar o botão + ou usar o atalho ctrl+A ou ainda botão direito adicionar nó filho. \n",
    "\n",
    "## Recursos\n",
    "\n",
    "Uma das partes mais importantes dos jogos e o nosso primeiro desafio, é a obtenção de recursos graficos para a construção do projeto, há duas formas essenciais de se obter eles, ou pegamos eles prontos/compramos na internet ou então nos mesmo criamos/pagamos pra fazer. \n",
    "O site: \n",
    "\n",
    "https://grafxkid.itch.io/\n",
    "\n",
    "é uma otima fonte de recursos, a maioria deles gratuitos. Nesse tutorial usaremos bastante os graficos desse site em conjunto com alguns outros que vamso criar."
   ]
  },
  {
   "cell_type": "markdown",
   "metadata": {},
   "source": [
    "Outra opção é justamente pedia para que alguma IA geradora de imagens criar esses recuros para nos porém, os modelos disponiveis atualmente não são tão eficiente em gerar imagens otimziadas para jogos, até existem algumas IA que são capazes de gerar imagens, porém muitas vezes as mesmas acabam com uma qualidade ruim ou com defeitos. A titulo de exemplo vamos tentar criar um modelo de um personagem principal para usarmos no jogo.\n",
    "A titulod e exemplo foi usado o seguinte input no chat bing para que ele criasse uma imagem de um personagem:"
   ]
  },
  {
   "cell_type": "raw",
   "metadata": {},
   "source": [
    "crie uma imagem de um personagem em 2d no estilo top-down para um jogo de medieval, um rapaz de cerca de 25 anos, com pele morena, cabelos curtos e negros, usando roupas claras, de frente, em formato T pose"
   ]
  },
  {
   "cell_type": "markdown",
   "metadata": {},
   "source": [
    "de todos os resultados, o melhor deles foi:\n",
    "![personaBase](Foto-2.2.jpeg \"personaBase\")"
   ]
  },
  {
   "cell_type": "markdown",
   "metadata": {},
   "source": [
    "Com o modelo pego, o proximo passo é jogar ele no gimp para removero fundo e tambéma s linhas que estão atrapalhando o mesmo, para isso o paint foi utilizado.\n",
    "\n",
    "O proximo passo é remover o fundo branco, então usarei uma ferramenta online:\n",
    "\n",
    "https://removal.ai/upload"
   ]
  },
  {
   "cell_type": "markdown",
   "metadata": {},
   "source": [
    "O proximo passo é criar o modelo em 3D para essa imagem, para isso há duas boas opçõees:\n",
    "\n",
    "https://huggingface.co/spaces/jiawei011/dreamgaussian\n",
    "\n",
    "ou \n",
    "\n",
    "https://3d.csm.ai/\n",
    "\n",
    "O funcionamento do site é bem intuitivo, bastando no primeiro fazer o upload do arquivo, no segundo é preciso criar um conta primeiro para então usar a opção de converter para modelo 3d. O ideal é testa em ambos os sites e escolher o que gerar um melhor resultado."
   ]
  },
  {
   "cell_type": "markdown",
   "metadata": {},
   "source": [
    "Usando o primeiro dos sites o resultado é mais rapido, porém o modelo normalmente possui uma qualidade inferior, de toda forma, o resultado que vocês devem esperar será similar a esse:\n",
    "\n",
    "![persona](site1.png)"
   ]
  },
  {
   "cell_type": "markdown",
   "metadata": {},
   "source": [
    "Usando o segundo site como exemplo, depois de fazer o cadastro e entrar, você deve escolher a opção \"image to 3D\", fazer o upload da imagem obtida com o bing e então esperar o site criar 4 modelos basicos com base nessa imagem. Não se precoupe, o processo todo pode demorar algumas horas mas você não é obrigado a ficar com a pagina aberta. Minha recomendação é que deixe como tá e feche tudo, voltando apenas depois de 24 horas que normalmente está pronto.\n",
    "Depois de escolher um dos 4 modelos base, ele vai passar pra um modo de pre acabamento que já mostra resultados melhores:\n",
    "![personaBase](site2.png)"
   ]
  },
  {
   "attachments": {},
   "cell_type": "markdown",
   "metadata": {},
   "source": [
    "Indo pra parte de \"Final Mesh\" você você pode optar por aplicar a retexture com AI ou somente salvar o resultado final mesmo. Eu recomendo fortemente que vocês brinquem um pouco com a função de retexture para obter um resultado um pouco melhor então, vocês devem exporta o projeto indo descendo o scroll e então selecionando a opção OBJ caso ela não esteja marcada\n",
    "\n",
    "![personaBase](site3.png)"
   ]
  },
  {
   "cell_type": "markdown",
   "metadata": {},
   "source": [
    "Será feito o download de um arquivo Zip e dentro do mesmo deve haver pelo menos 3 arquivos que devem ser extraidos em uma pasta de sua preferencia. ]Por hora o principal deles é o mesh.obj\n",
    "Caso seu computador tenha o windows 10+ você poderá abrir esse arquivo diretamente e ter uma previa de seu modelo.\n",
    "O proximo passo será ir criar as animações do seu personagem, para isso a melhor opção que sugiro é o site Mixano:\n",
    "\n",
    "https://www.mixamo.com/\n",
    "\n",
    "O cadastro no mesmo também é preciso, e depois de finalizar você deve começar apertando no botão \"Upload Character\" e então selecionar o arquivo mesh.obj que você previamente guardou.\n",
    "\n",
    "Apos o upload do mesmo, a seguinte janela irá se abrir:\n",
    "\n",
    "![personaBase](site4.png)"
   ]
  },
  {
   "cell_type": "markdown",
   "metadata": {},
   "source": [
    "Depois de usar o botão \"Next\" você deve deve marca no seu personagem as posições dos pontos principais, seguindo como base o exemplo da figura ao lado:\n",
    "\n",
    "![personaBase](site5.png)"
   ]
  },
  {
   "cell_type": "markdown",
   "metadata": {},
   "source": [
    "Uma vez marcado o site irá começar a criar os ossos que irão compor seu personagem e quando o processo do mesmo terminar, é hora de escolher quais animações iremos fazer usso em nosso projeto.\n",
    "\n",
    "Para o meu modelo, as animações que irei escolher são as nomeadas como:\n",
    "\"walking\", \"Fast run\", \"Breathing Idle\", \"Jumping Up\", \"Floating\", \"Swimming\" e \"Standing Melle Attack\"\n",
    "Em todos os casos, é preciso deixar marcado a opção \"In Place\" caso a mesma exista\n",
    "\n",
    "![personaBase](site6.png)\n",
    "\n",
    "em seguida é preciso selecionar a opção Download e então deixar as seguintes configurações para o mesmo.\n",
    "\n",
    "![personaBase](site7.png)"
   ]
  },
  {
   "cell_type": "markdown",
   "metadata": {},
   "source": [
    "Apos baixar todas as animações, coloque todas elas dentro da mesma pasta onde você guardou aqueles 3 arquivos que usamos no projeto. Caso queira, coloquem já dentro da sua pasta do projeto e já façam um commit para não acabar perdendo as mesmas.\n",
    "\n",
    "Para o proximo passo iremos converter os personagens em 3d com as animações para imagens em 2d que usaremos no projeto, para isso faremos uso do programa de nome Blender. Você pode baixar o mesmo direto pelo site oficial deles ou sua versão da Steam que por sinal é a que uso, em ambos os casos dá no mesmo:\n",
    "\n",
    "https://www.blender.org/download/\n",
    "\n",
    "ou \n",
    "\n",
    "https://store.steampowered.com/app/365670/Blender/?l=portuguese"
   ]
  },
  {
   "attachments": {},
   "cell_type": "markdown",
   "metadata": {},
   "source": [
    "Esse é um dos programas mais populares que existem para modelagem em 3D, caso você queira, é perfeitamente possivel editar o modelo aqui nele para corrigir defeitos ou mesmo criar um novo modelo do 0, mas isso ficará a seu criterio. Aqui, abordaremos apenas o basico para conseguir fazer a conversão do personagem para uma imagem em 2d.\n",
    "\n",
    "Para quem nunca usou, a inferface padrão do blender é essa:\n",
    "\n",
    "![personaBase](site8.png)"
   ]
  },
  {
   "cell_type": "markdown",
   "metadata": {},
   "source": [
    "Primeiramente vamos deletar esse cubo, clickando no mesmo e apenas apertando delete. Em seguida vamos em File > Import FBX e então você deve selecionar uma das animações que salvamos. Vou escolher primeiramente a animação de walking, porém esse procedimento deve ser feito com todas as animações. \n",
    "Depois de importar o modelo com esqueleto deve aparecer, porém é possivel que o mesmo esteja muito pequeno, então basta dar um zoom no mesmo usando o scroll do mouse. \n",
    "O proximo passo será importa a textura nesse modelo e para isso, iremos primeiramente selecionar o mesmo, no modo de objeto selecionamos a opção Texture Paint.\n",
    "\n",
    "![personaBase](site9.png)"
   ]
  },
  {
   "cell_type": "markdown",
   "metadata": {},
   "source": [
    "Se tudo correu bem, a opção Texture Slots deve abrir e indo nele você deve trocar o modo para Single Image e depois de selecionar a oção Open, mais uma vez você deve buscar a pasta onde extraiu o zip a alguns passos atraz, onde estava o arquivo Mesh.obj. Ao lado dele você deve conseguir ver um arquivo de imagem com o nome albedo, selecionando o mesmo agora ele deve aplicar corretamente a textura ao seu modelo."
   ]
  },
  {
   "attachments": {},
   "cell_type": "markdown",
   "metadata": {},
   "source": [
    "![personaBase](site10.png)"
   ]
  },
  {
   "cell_type": "markdown",
   "metadata": {},
   "source": [
    "Feito isso, nos devemos ser capazes de visualizar o modelo já com a animação e textura caso migremos para a aba de animation e depois aperta no simbolo de play. \n",
    "\n",
    "Já é possivel tirar print do modelo agora e então usarmos, porém vamos ver um metodo mais eficiente de se fazer isso na proxima aula. Por enquanto, devemos apenas fazer esse processo de criação dos arquivos de animação e caso queiram já irem salvando no formato do blender pode ser legal para facilitar no futuro.\n",
    "\n",
    "Se tudo foi feito corretamente até aqui, vocês devem finalizar a aula de hoje com essa tela:\n",
    "\n",
    "![personaBase](site11.png)"
   ]
  },
  {
   "cell_type": "markdown",
   "metadata": {},
   "source": [
    "A proxima aula devemos criar os quadros de animação do persoangem e também vamos começar a separar alguns recusos que usaremos no projeto, bem como importa tudo pra o godot e começar a criação do personagem no jogo."
   ]
  }
 ],
 "metadata": {
  "kernelspec": {
   "display_name": "Python 3 (ipykernel)",
   "language": "python",
   "name": "python3"
  },
  "language_info": {
   "codemirror_mode": {
    "name": "ipython",
    "version": 3
   },
   "file_extension": ".py",
   "mimetype": "text/x-python",
   "name": "python",
   "nbconvert_exporter": "python",
   "pygments_lexer": "ipython3",
   "version": "3.9.18"
  }
 },
 "nbformat": 4,
 "nbformat_minor": 4
}
