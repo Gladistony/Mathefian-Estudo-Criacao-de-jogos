{
 "cells": [
  {
   "cell_type": "markdown",
   "metadata": {},
   "source": [
    "# Atividade 1: Introdução ao Godot\n",
    "Primeiro de tudo vamos falar sobre a engime, ela é um motor de criação de jogos, totalmente gratuito e de código aberto, inclusive, vocês podem baixar o código fonte da mesma facilmente pelo GitHub e compilar um executável com suas próprias edições caso queiram.\n",
    "Atualmente ela está na versão 4.3.dev e 4.2.1.stable Essa diferença se deve ao fato da versão stable ser a que todos os erros conhecidos já foram corrigidos e a 4.3 a versão que ainda está sendo construída. Normalmente, sempre se trabalha com a versão stable mais recente, porém é bastante comum usar versões mais antigas, principalmente caso você tenha começado a desenvolver o seu projeto a algum tempo. Normalmente, quando a versão muda o primeiro numero, isso indica grandes mudanças no código o que normalmente faz com que varias funções antigas parem de funcionar, devido a isso é comum que quem começou o projeto na 3.X mantenha nessa versão.\n",
    "Para os propósitos desse estudo, nos iremos sempre usar a versão mais recente estável (stable), além disso cada vez que for feito uma atualização, também vamos atualizar o nosso projeto.\n",
    "Quanto ao programa da Godot, há três formas principais de se obter o mesmo:\n",
    "\n",
    "-A primeira e mais fácil é baixar pela steam, baixando por la você fara o download automaticamente da versão estável mais recente e a steam irá deixar ele sempre atualizado para a versão mais nova\n",
    "\n",
    "-A segunda forma é baixar direto do site oficial deles, que pode ser feito por essa pagina aqui: https://godotengine.org/download/windows/\n",
    "\n",
    "Também nesse site se encontra o arquivo com todas as versões antigas e também com as novas versões que estão em desenvolvimento, caso você queira verificar, pode encontrar todas elas aqui: https://godotengine.org/download/archive/\n",
    "\n",
    "-A terceira forma de baixar ela seria direto pelo repositório oficial do GitHub da godot: https://github.com/godotengine/godot\n",
    "Indo ai você poderá encontrar não só o código fonte da mesma, como na parte de release terá todas as versões da engime e aqui também se encontram versões da mesma para outras SO (Sistema Operacional), como Linux, mac ou android.\n",
    "\n",
    "Essas outras versões da godot são essencialmente o mesmo construtor de jogos, apenas rodando em SO diferentes, vocês podem fazer seu projeto em qualquer uma delas ou migrar entre elas sem quase nenhum problema, perca ou ajuste. Em teoria são o mesmo programa.\n",
    "Se quiserem usar a versão em android, da pra fazer isso pesquisando na google play por: Godot Editor 4 e então você terá acesso a versão mais recente da mesma enviada ou você poderá baixar o apk indo no git que mandei o link e nas release há o apk para o download.\n",
    "\n",
    "Se vocês baixarem pela steam, ela mesma vai alocar os arquivos no canto correto e deixa o atalho na área de trabalho, porém se vocês baixarem de outra fonte, vira um arquivo zipado que contem o executável do godot e alguns outros arquivos menores. Não há um instalador, baixa deixar esse executável nos seus documentos numa pasta e rodar por ele. Esse é o único arquivo que o godot precisa.\n",
    "Ao abrir ele, você irá notar que provavelmente duas janelas se abrirão, a primeira é o programa de fato e a segunda é o console do mesmo. Enquanto vocês programarem, ambas devem ficar abertas e fechando qualquer uma delas o programa irá fechar.\n",
    "É importante mencionar que, a versão da steam não conta com essa segunda janela extra, o que eu particularmente prefiro.\n",
    "\n",
    "Indo para o próximo tópico, se tratando de linguagem de programação, o godot aceita 2 delas principalmente, C++/C# e o GDScript. Para nosso estudo, nos usaremos apenas o GDScript por é a linguagem no qual o godot melhor funciona por ser algo criado especificamente para o mesmo. A sintaxe dela lembra bastante o pyhton e ao decorrer do estudo vamos começar pouco a pouco vendo as regras de escrita da mesma."
   ]
  },
  {
   "cell_type": "markdown",
   "metadata": {},
   "source": [
    "Para essa primeira atividade, nos vamos apenas iniciar o projeto, para isso iremos criar um repositório do mesmo no git, além de definir as configurações básica do git. Para facilitar isso, usaremos uma ferramenta chamada: GitHub Desktop Essa ferramenta permite automatizar o processo de versionamento sem precisar ficar decorando os códigos do git. Vocês podem encontrar a mesma facilmente pelo link:\n",
    "https://desktop.github.com/ "
   ]
  },
  {
   "cell_type": "markdown",
   "metadata": {},
   "source": [
    " <a id=\"tutorial-1\"></a>\n",
    "Pra começar, criem um novo repositório em File>New Repository ou simplesmente apertando Ctrl+N No nome, escolham um nome para o jogos que vocês irão criar nessa sequencia de atividades, a descrição do mesmo é opcional e na parte de Git Ignore vocês devem selecionar a opção Godot. Isso vai configurar o projeto para ignorar os arquivos de importação locais e temporários que o godot gera, para que você não precise ficar subindo coisas não essenciais para o projeto. O nome do meu projeto será: Mathefian Estudo Criacao de jogos Crie o de vocês a seus gostos. Note que ainda que você use espaços, ç ou acentos, o git irá automaticamente remover os mesmo para não gerar problemas de compatibilidade.\n",
    "\n",
    "Uma vez que o repositório foi criado, publiquem o mesmo apertando CTRL+P ou no botão azul que aparece no meio da tela. Vocês podem deixar esse projeto privado ou aberto, fica a critério de vocês, o meu no caso eu deixarei publico para que vocês possam acompanhar também.\n",
    "\n",
    "Nota: Para que isso seja possível é preciso que vocês façam login nas suas respectivas contas do Git, se tiverem problemas com isso me informem que irei lhes auxiliar com isso. Uma vez que tudo esteja publicado, vamos agorar abrir o godot e então configurar nosso projeto por la."
   ]
  },
  {
   "cell_type": "markdown",
   "metadata": {},
   "source": [
    "![MarineGEO circle logo](Foto-1.1.jpg \"MarineGEO logo\")"
   ]
  },
  {
   "cell_type": "markdown",
   "metadata": {},
   "source": [
    "Essa é a interface básica de abertura do Godot, caso a versão de vocês venha em inglês, vocês podem modificar isso facilmente no canto superior direito e escolhendo a opção PT_BR. Em seguida, vocês irão acerta em novo e agora devem colocar o nome do projeto nessa nova janela que abrira. Percebam que há um erro informando um problema pois você esta tentando criar um projeto numa pasta não vazia. Vocês devem então primeiramente escolher o nome do projeto e então selecionar a mesma pasta que foi criada quando vocês geraram o repositório."
   ]
  },
  {
   "cell_type": "markdown",
   "metadata": {},
   "source": [
    "![MarineGEO circle logo](Foto-1.2.jpg \"MarineGEO logo\")"
   ]
  },
  {
   "cell_type": "markdown",
   "metadata": {},
   "source": [
    "Essa pasta fica normalmente nos Meus Documentos com o nome que vocês criaram nesse passo Se vocês não sabem onde fica isso ainda assim, basta ir no programa do git Botão direito no nome do seu repositório e em seguida Show in explorer"
   ]
  },
  {
   "cell_type": "markdown",
   "metadata": {},
   "source": [
    "![MarineGEO circle logo](Foto-1.3.jpg \"MarineGEO logo\")"
   ]
  },
  {
   "cell_type": "markdown",
   "metadata": {},
   "source": [
    "Isso vai abrir um pasta com seu repositório que deve contar os arquivos: .gitattributes e .gitignore copiem o caminho da pasta e colem no caminho do projeto do Godot e fazendo isso sua janela deve ficar dessa forma:"
   ]
  },
  {
   "cell_type": "markdown",
   "metadata": {},
   "source": [
    "![MarineGEO circle logo](Foto-1.4.jpg \"MarineGEO logo\")"
   ]
  },
  {
   "cell_type": "markdown",
   "metadata": {},
   "source": [
    "Atenção, na patê de controle de versão vira marcado automaticamente a opção Git, mudem essa opção para Nenhum pois o repositório já foi previamente configurado quando você o criou nesse passo [aqui](#tutorial-1)"
   ]
  },
  {
   "cell_type": "markdown",
   "metadata": {},
   "source": [
    "Ainda assim, caso acidentalmente você deixe essa opção marcada, não será um problema, ele apenas irá apagar esses arquivos e colocar novos no lugar. Uma vez feito isso apenas pressione Criar & Editar e então essa janela do programa irá se abrir:"
   ]
  },
  {
   "cell_type": "markdown",
   "metadata": {},
   "source": [
    "![MarineGEO circle logo](Foto-1.5.jpg \"MarineGEO logo\")"
   ]
  },
  {
   "cell_type": "markdown",
   "metadata": {},
   "source": [
    "iremos discutir mais sobre essa interface depois, por hora voltemos ao Git e iremos observa que vários arquivos foram criados na pasta o de vocês deve está também dessa forma:"
   ]
  },
  {
   "cell_type": "markdown",
   "metadata": {},
   "source": [
    "![MarineGEO circle logo](Foto-1.6.jpg \"MarineGEO logo\")"
   ]
  },
  {
   "cell_type": "markdown",
   "metadata": {},
   "source": [
    "Perceba que há muitos arquivos que são configurações do editor que não precisam ser sincronizados. Para resolver esse problema, na pasta do seu projeto, procurem o arquivo: .gitignore e abram ele com seu editor de texto de sua preferencia, no meu caso o bloco de notas\n",
    "o primeiro bloco do código estará assim:"
   ]
  },
  {
   "cell_type": "markdown",
   "metadata": {},
   "source": [
    "~~~\n",
    "# Godot-specific ignores\n",
    ".import/\n",
    "export.cfg\n",
    "export_presets.cfg\n",
    "~~~"
   ]
  },
  {
   "cell_type": "markdown",
   "metadata": {},
   "source": [
    "tudo que vocês devem fazer é adicionar o .godot/ a lista de ignorados, resultado na escrita dessa forma:"
   ]
  },
  {
   "cell_type": "markdown",
   "metadata": {},
   "source": [
    "~~~\n",
    "# Godot-specific ignores\n",
    ".import/\n",
    ".godot/\n",
    "export.cfg\n",
    "export_presets.cfg\n",
    "~~~"
   ]
  },
  {
   "cell_type": "markdown",
   "metadata": {},
   "source": [
    "Se preferirem estou enviando o arquivo aqui para vocês baixarem pelo link:\n",
    "\n",
    "http://blob.firecast.com.br/blobs/SGJINGIW_3088377/.gitignore.txt\n",
    "\n",
    "Feito isso, o Git irá passar a ler apenas os arquivos realmente necessários:"
   ]
  },
  {
   "cell_type": "markdown",
   "metadata": {},
   "source": [
    "![MarineGEO circle logo](Foto-1.7.jpg \"MarineGEO logo\")"
   ]
  },
  {
   "cell_type": "markdown",
   "metadata": {},
   "source": [
    "Para finalizar, na parte inferior esquerda, criem o primeito Commit com o nome de arquivos básicos, podem fazer ele direto da main mesmo e em seguida um botão push origin irá acender. Pressione o mesmo para enviar as informações direto para seu repositório online \n",
    "\n",
    "Por hoje será apenas isso, da próxima vez vamos verificar a interface, os comandos básicos e as configurações do projeto\n",
    "\n",
    "Se vocês criaram um repositório publico, postem aqui os links de vocês, o meu no caso ficou aqui: \n",
    "\n",
    "https://github.com/Gladistony/Mathefian-Estudo-Criacao-de-jogos "
   ]
  }
 ],
 "metadata": {
  "kernelspec": {
   "display_name": "Python 3 (ipykernel)",
   "language": "python",
   "name": "python3"
  },
  "language_info": {
   "codemirror_mode": {
    "name": "ipython",
    "version": 3
   },
   "file_extension": ".py",
   "mimetype": "text/x-python",
   "name": "python",
   "nbconvert_exporter": "python",
   "pygments_lexer": "ipython3",
   "version": "3.9.18"
  }
 },
 "nbformat": 4,
 "nbformat_minor": 4
}
