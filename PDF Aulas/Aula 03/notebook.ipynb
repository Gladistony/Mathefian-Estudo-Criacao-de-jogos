{
 "cells": [
  {
   "cell_type": "markdown",
   "metadata": {},
   "source": [
    "# Aula 3: Criação das animações em 2D\n",
    "\n",
    "Continuando a parti da atividade anterior, a primeira coisa que faremos é corrigir a animação. Para isso, vamos abrir a seção de animação do blender no menu:"
   ]
  },
  {
   "cell_type": "markdown",
   "metadata": {},
   "source": [
    "![image.png](fig0.png)"
   ]
  },
  {
   "cell_type": "markdown",
   "metadata": {},
   "source": [
    "Uma vez com essa seção aberta, na parte inferior, vamos ter a seguinte janela. A primeira coisa que faremos é alguns ajustes para melhor visualização, a começar por ajustar a posição da imagem na tela que deve está bem pequena devido ao afastamento da camera (para dar zoom você poderá usar o scroll do mouse ou p botão +)\n",
    "![image.png](fig2.png)"
   ]
  },
  {
   "cell_type": "markdown",
   "metadata": {},
   "source": [
    "Nessa imagem o item 1 mostra onde você poderá ajusta a pespectiva da camera, para esse exemplo deixei a mesma no eixo Y. Em seguida, no botão 2 é possivel ajusta o posicionamento da imagem na tela, para isso precione nesse icone de mão e com o botão do mouse (esquerdo) precionado o mova para que a imagem fique na posição que você preferir. Por fim, para de fato corrigir a animação, basta verificar no item 3, use o botão de play a esquerda e veja até que frame a animação para, em seguida nesse circulo a direita, na parte onde está o end, ajuste o frame de final para o mesmo que a animação termina. Ao fazer isso a animação agora deve rodar em loop corretamente ao precionar Play.\n",
    "\n",
    "OBS: No geral o numero a ser posto no end é 30, salvo se você mudou alguma configuração no Mixano"
   ]
  },
  {
   "cell_type": "markdown",
   "metadata": {},
   "source": [
    "Com essa seção já finalizada, o proximo passo é fazer a correção da posição da camera, para isso vamos voltar para a visão de Layout, na mesma parte onde você anteriomente mudou para o modo de textura e animação. Aqui vamos verificar se estamos no modo de edição de objeto conforme a imagem abaixo. A textura do mesmo deve desaparecer mais não se importe com isso.\n",
    "![image.png](fig3.png)"
   ]
  },
  {
   "cell_type": "markdown",
   "metadata": {},
   "source": [
    "vamos agora usar o eixo para mudar para visão de cima, precionando o botão azul (eixo Z) e então vamos diminuir o zoom até que seja possivel ver a fonte de luz e camera.\n",
    "![image.png](fig4.png)\n",
    "Nessa imagem, o objeto no circulo representa a camera e no quadrado a fonte de luz. O proximo passo é dividir a tela apertando com o botão direito logo abaixo do botão de layout, quando o mouse mudar de icone para 2 setas.\n",
    "![image.png](fig1.png)\n",
    "\n",
    "Selecione a divisão que preferir e então vamos configurar uma delas para a pespectiva da camera"
   ]
  },
  {
   "cell_type": "markdown",
   "metadata": {},
   "source": [
    "Para isso basta usar esse icone e então teremos como resultado essa tela:\n",
    "![image.png](fig5.png)"
   ]
  },
  {
   "cell_type": "markdown",
   "metadata": {},
   "source": [
    "O proximo passo é ajustar a posição da camera, mudando as posição de localização e rotação para que a mesma possa focar no objeto. Essas configurações vão depender muito de seus gostos pessoais e também do modelo em 3d, no meu caso, as coisas terminaram da seguinte maneira\n",
    "![image.png](fig6.png)"
   ]
  },
  {
   "cell_type": "markdown",
   "metadata": {},
   "source": [
    "O proximo passo é adicionar o material de forma permanente na imagem, para isso, vamos para o editor de objeto novamente e então selecionamos a guia de materiais. \n",
    "![image.png](fig7.png)\n",
    "Uma vez na aba de materiais, você deve precionar o botão de novo (New)"
   ]
  },
  {
   "cell_type": "markdown",
   "metadata": {},
   "source": [
    "O proximo passo é aperta na esfera colorida do lado de \"base color\" e no menu que aparecer você deve selecionar \"image texture\" e em seguida aperta no botão em forma de pasta e então procurar e carregar o arquivo \"albedo.png\" nesse local. Com isso seu personagem já está com todas as texturas prontas e carregadas.\n"
   ]
  },
  {
   "cell_type": "markdown",
   "metadata": {},
   "source": [
    "![image.png](fig8.png)"
   ]
  },
  {
   "cell_type": "markdown",
   "metadata": {},
   "source": [
    "Caso queiram visualizar essas edições, ainda no modo de edição de objeto, vocês devem ir no canto superior e ajusta a visibilidade para mostra as texturas no seguinte icone:\n",
    "![image.png](fig9.png)"
   ]
  },
  {
   "cell_type": "markdown",
   "metadata": {},
   "source": [
    "O proximo passo será selecionar a pasta de destino onde ficarão as imagens quadro a quadro, para isso basta selecionar no menu lateral a opção de output e na parte inferior selecionar uma pasta de sua preferencia:\n",
    "![image.png](fig10.png)"
   ]
  },
  {
   "cell_type": "markdown",
   "metadata": {},
   "source": [
    "Com tudo isso pronto, o passo seguinte é mandar o programa processar frame a animação, para isso usaremos o menu de Render>Render Animation ou o atalho CTRL+12.\n",
    "O processo de animação será iniciado e então assim que concluir você pode fechar e blender e salvar se desejar. Então vá até a pasta que selecionou como output e então encontrará todos os arquivos lá:\n",
    "![image.png](fig11.png)"
   ]
  },
  {
   "cell_type": "markdown",
   "metadata": {},
   "source": [
    "O ultimo passo a se fazer é a remoção do fundo de todas as imagens. Isso pode ser feito usando qualquer programa de sua preferencia, mas para facilitar aqui, como acabaremos fazendo isso varias vezes, vou demonstrar como utilizar um codigo simples em python para isso."
   ]
  },
  {
   "cell_type": "markdown",
   "metadata": {},
   "source": [
    "Caso queiram utilizar o codigo em python, precisaremos instalar a seguinte biblioteca:\n",
    "pip install removebg\n",
    "O codigo que usaremos será o seguinte:"
   ]
  },
  {
   "cell_type": "code",
   "execution_count": 11,
   "metadata": {},
   "outputs": [
    {
     "name": "stderr",
     "output_type": "stream",
     "text": [
      "Downloading data from 'https://github.com/danielgatis/rembg/releases/download/v0.0.0/u2net.onnx' to file 'C:\\Users\\bisto\\.u2net\\u2net.onnx'.\n",
      "100%|###############################################| 176M/176M [00:00<?, ?B/s]\n"
     ]
    }
   ],
   "source": [
    "from rembg import remove\n",
    "from PIL import Image\n",
    "\n",
    "caminho = \"C:/Users/bisto/OneDrive/Documentos/GitHub/Mathefian-Estudo-Criacao-de-jogos/Modelo de personagem não trabalhados/Personagem Principal/Blender/Andando/\"\n",
    "nomeImage = \"albedo.png\"\n",
    "formato = \".png\"\n",
    "frames = 30\n",
    "saida = \"SemFundo\"\n",
    "\n",
    "for i in range(frames):\n",
    "    id = i+1\n",
    "    caminhoimagem = f\"{caminho}/{nomeImage}{id:04d}{formato}\"\n",
    "    imgemarq = Image.open(caminhoimagem)\n",
    "    imagesembg = remove(imgemarq)\n",
    "    imagesembg.save(f\"{caminho}/{saida}/{nomeImage}{id:04d}{formato}\")\n"
   ]
  },
  {
   "cell_type": "markdown",
   "metadata": {},
   "source": [
    "Basta apenas você editar as informações, substituindo o caminho pelo local onde se encontram as fotoas, nomeImage é o nome dos arquivos conforme esta na imagem anterior, o formato é o formato escolhido para salver e frames é o total de arquivos que você gerou. A saida corresponde a pasta dentro do caminho onde ficarão salvos as saidas. Depois de algum tempo no final você tera o seguinte:\n",
    "![image.png](fig12.png)"
   ]
  },
  {
   "cell_type": "markdown",
   "metadata": {},
   "source": [
    "Caso você queira fazer um jogo com movimentos em 2 dimensões, apenas é preciso os frames do deslocamento para direita ou esquerda, caso você esteja fazendo um jogo em 4 dimensões serão preciso os movimentos para cima e baixo, para isso basta repetir os passos de importação da animação no blender agora ajustando a camera para pegar o persoangem na posição desejada. Também é preciso refazer todos os passos para cada uma das animações.\n",
    "\n",
    "Aviso:\n",
    "\n",
    "Caso vocês queiram construir o movimento em 4d, vocês devem ter animações referentes a essas 3 posições, podendo o movimento a esquerda ser substituido pelo da direita ou visse versa\n",
    "![image.png](fig13.png)"
   ]
  }
 ],
 "metadata": {
  "kernelspec": {
   "display_name": "Python 3",
   "language": "python",
   "name": "python3"
  },
  "language_info": {
   "codemirror_mode": {
    "name": "ipython",
    "version": 3
   },
   "file_extension": ".py",
   "mimetype": "text/x-python",
   "name": "python",
   "nbconvert_exporter": "python",
   "pygments_lexer": "ipython3",
   "version": "3.11.9"
  }
 },
 "nbformat": 4,
 "nbformat_minor": 2
}
