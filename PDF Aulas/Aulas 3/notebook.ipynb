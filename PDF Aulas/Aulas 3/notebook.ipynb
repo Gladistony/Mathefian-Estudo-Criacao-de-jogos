{
 "cells": [
  {
   "cell_type": "markdown",
   "metadata": {},
   "source": [
    "#Aula 3\n",
    "\n",
    "Continuando a parti da atividade anterior, a primeira coisa que faremos é corrigir a animação. Para isso, vamos abrir a seção de animação do blender no menu:"
   ]
  },
  {
   "cell_type": "markdown",
   "metadata": {},
   "source": [
    "![image.png](fig0.png)"
   ]
  },
  {
   "cell_type": "markdown",
   "metadata": {},
   "source": [
    "Uma vez com essa seção aberta, na parte inferior, vamos ter a seguinte janela. A primeira coisa que faremos é alguns ajustes para melhor visualização, a começar por ajustar a posição da imagem na tela que deve está bem pequena devido ao afastamento da camera (para dar zoom você poderá usar o scroll do mouse ou p botão +)\n",
    "![image.png](fig2.png)"
   ]
  },
  {
   "cell_type": "markdown",
   "metadata": {},
   "source": [
    "Nessa imagem o item 1 mostra onde você poderá ajusta a pespectiva da camera, para esse exemplo deixei a mesma no eixo Y. Em seguida, no botão 2 é possivel ajusta o posicionamento da imagem na tela, para isso precione nesse icone de mão e com o botão do mouse (esquerdo) precionado o mova para que a imagem fique na posição que você preferir. Por fim, para de fato corrigir a animação, basta verificar no item 3, use o botão de play a esquerda e veja até que frame a animação para, em seguida nesse circulo a direita, na parte onde está o end, ajuste o frame de final para o mesmo que a animação termina. Ao fazer isso a animação agora deve rodar em loop corretamente ao precionar Play.\n",
    "\n",
    "OBS: No geral o numero a ser posto no end é 30, salvo se você mudou alguma configuração no Mixano"
   ]
  },
  {
   "cell_type": "markdown",
   "metadata": {},
   "source": [
    "Com essa seção já finalizada, o proximo passo é fazer a correção da posição da camera, para isso vamos voltar para a visão de Layout, na mesma parte onde você anteriomente mudou para o modo de textura e animação. Aqui vamos verificar se estamos no modo de edição de objeto conforme a imagem abaixo. A textura do mesmo deve desaparecer mais não se importe com isso.\n",
    "![image.png](fig3.png)"
   ]
  },
  {
   "cell_type": "markdown",
   "metadata": {},
   "source": [
    "vamos agora usar o eixo para mudar para visão de cima, precionando o botão azul (eixo Z) e então vamos diminuir o zoom até que seja possivel ver a fonte de luz e camera.\n",
    "![image.png](fig4.png)\n",
    "Nessa imagem, o objeto no circulo representa a camera e no quadrado a fonte de luz. O proximo passo é dividir a tela apertando com o botão direito logo abaixo do botão de layout, quando o mouse mudar de icone para 2 setas.\n",
    "![image.png](fig1.png)\n",
    "\n",
    "Selecione a divisão que preferir e então vamos configurar uma delas para a pespectiva da camera"
   ]
  },
  {
   "cell_type": "markdown",
   "metadata": {},
   "source": [
    "Para isso basta usar esse icone e então teremos como resultado essa tela:\n",
    "![image.png](fig5.png)"
   ]
  },
  {
   "cell_type": "markdown",
   "metadata": {},
   "source": [
    "O proximo passo é ajustar a posição da camera, mudando as posição de localização e rotação para que a mesma possa focar no objeto. Essas configurações vão depender muito de seus gostos pessoais e também do modelo em 3d, no meu caso, as coisas terminaram da seguinte maneira\n",
    "![image.png](fig6.png)"
   ]
  }
 ],
 "metadata": {
  "language_info": {
   "name": "python"
  }
 },
 "nbformat": 4,
 "nbformat_minor": 2
}
